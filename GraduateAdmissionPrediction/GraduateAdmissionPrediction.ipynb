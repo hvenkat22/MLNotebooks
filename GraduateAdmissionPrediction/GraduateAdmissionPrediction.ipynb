{
  "cells": [
    {
      "cell_type": "code",
      "execution_count": null,
      "metadata": {
        "colab": {
          "base_uri": "https://localhost:8080/"
        },
        "id": "wl7MHLsE5kU9",
        "outputId": "72b5a215-c8be-497d-af66-6dd2bf707a02"
      },
      "outputs": [
        {
          "name": "stdout",
          "output_type": "stream",
          "text": [
            "Missing Values:\n",
            "Serial No.           0\n",
            "GRE Score            0\n",
            "TOEFL Score          0\n",
            "University Rating    0\n",
            "SOP                  0\n",
            "LOR                  0\n",
            "CGPA                 0\n",
            "Research             0\n",
            "Chance of Admit      0\n",
            "Admission            0\n",
            "dtype: int64\n"
          ]
        }
      ],
      "source": [
        "#Hari Venkataraman\n",
        "import pandas as pd\n",
        "from sklearn.model_selection import train_test_split\n",
        "from sklearn.linear_model import LogisticRegression\n",
        "from sklearn.preprocessing import StandardScaler\n",
        "from sklearn.metrics import accuracy_score, classification_report, confusion_matrix\n",
        "\n",
        "#Loading Dataset\n",
        "data = pd.read_csv('GraduateAdmissions.csv')\n",
        "\n",
        "#Find Missing Values\n",
        "missing_values = data.isnull().sum()\n",
        "print(\"Missing Values:\")\n",
        "print(missing_values)"
      ]
    },
    {
      "cell_type": "code",
      "execution_count": 41,
      "metadata": {
        "id": "NDsqP6FL6SZJ"
      },
      "outputs": [],
      "source": [
        "#Dropping Nan Values\n",
        "data.dropna(inplace=True)"
      ]
    },
    {
      "cell_type": "code",
      "execution_count": 42,
      "metadata": {
        "colab": {
          "base_uri": "https://localhost:8080/",
          "height": 449
        },
        "id": "9qHHue756TDg",
        "outputId": "5bd87654-7088-43ad-9ea2-8a392fda1a28"
      },
      "outputs": [
        {
          "output_type": "execute_result",
          "data": {
            "text/plain": [
              "<Axes: >"
            ]
          },
          "metadata": {},
          "execution_count": 42
        },
        {
          "output_type": "display_data",
          "data": {
            "text/plain": [
              "<Figure size 640x480 with 1 Axes>"
            ],
            "image/png": "[encoded data removed]"
          },
          "metadata": {}
        }
      ],
      "source": [
        "#Plotting to detect Outliers\n",
        "data.boxplot(column=['GRE Score', 'TOEFL Score'])"
      ]
    },
    {
      "cell_type": "code",
      "execution_count": null,
      "metadata": {
        "colab": {
          "base_uri": "https://localhost:8080/"
        },
        "id": "OnULrdOi6VK5",
        "outputId": "873f15c5-25f7-45d4-a240-9251171f9e16"
      },
      "outputs": [
        {
          "name": "stdout",
          "output_type": "stream",
          "text": [
            "Duplicate Rows: 0\n"
          ]
        }
      ],
      "source": [
        "#Finding Duplicates\n",
        "duplicates = data.duplicated().sum()\n",
        "print(\"Duplicate Rows:\", duplicates)"
      ]
    },
    {
      "cell_type": "code",
      "execution_count": null,
      "metadata": {
        "id": "dxyHsPMS6apA"
      },
      "outputs": [],
      "source": [
        "#Dropping duplicate rows\n",
        "data.drop_duplicates(inplace=True)"
      ]
    },
    {
      "cell_type": "code",
      "execution_count": null,
      "metadata": {
        "id": "OY1g8odW6lhi"
      },
      "outputs": [],
      "source": [
        "#Normalizing Scores\n",
        "scaler = StandardScaler()\n",
        "data[['GRE Score', 'TOEFL Score']] = scaler.fit_transform(data[['GRE Score', 'TOEFL Score']])"
      ]
    },
    {
      "cell_type": "code",
      "execution_count": null,
      "metadata": {
        "colab": {
          "base_uri": "https://localhost:8080/"
        },
        "id": "SudTFfOB7hFN",
        "outputId": "100fe439-dd20-4742-954d-272f46d844d9"
      },
      "outputs": [
        {
          "data": {
            "text/plain": [
              "0      1\n",
              "1      1\n",
              "2      1\n",
              "3      1\n",
              "4      1\n",
              "      ..\n",
              "495    1\n",
              "496    1\n",
              "497    1\n",
              "498    1\n",
              "499    1\n",
              "Name: Admission, Length: 500, dtype: int64"
            ]
          },
          "execution_count": 26,
          "metadata": {},
          "output_type": "execute_result"
        }
      ],
      "source": [
        "data['Admission']"
      ]
    },
    {
      "cell_type": "code",
      "execution_count": null,
      "metadata": {
        "colab": {
          "background_save": true
        },
        "id": "nP6yvE156pLK"
      },
      "outputs": [],
      "source": [
        "#Splitting dataset\n",
        "X = data[['GRE Score', 'TOEFL Score']]\n",
        "y = data['Admission']\n",
        "X_train, X_test, y_train, y_test = train_test_split(X, y, test_size=0.2, random_state=42)\n"
      ]
    },
    {
      "cell_type": "code",
      "execution_count": null,
      "metadata": {
        "id": "I-_SwgCo6prR"
      },
      "outputs": [],
      "source": [
        "#Fitting the model\n",
        "model = LogisticRegression()\n",
        "model.fit(X_train, y_train)"
      ]
    },
    {
      "cell_type": "code",
      "execution_count": null,
      "metadata": {
        "id": "oXOh0f_Z6r5s"
      },
      "outputs": [],
      "source": [
        "y_pred = model.predict(X_test)"
      ]
    },
    {
      "cell_type": "code",
      "execution_count": null,
      "metadata": {
        "id": "TsAgg9jR6vSc"
      },
      "outputs": [],
      "source": [
        "accuracy = accuracy_score(y_test, y_pred)\n",
        "print(\"Accuracy:\", accuracy)"
      ]
    },
    {
      "cell_type": "code",
      "execution_count": null,
      "metadata": {
        "id": "McVBONL96yJI"
      },
      "outputs": [],
      "source": [
        "print(\"Classification Report:\")\n",
        "print(classification_report(y_test, y_pred))"
      ]
    },
    {
      "cell_type": "code",
      "execution_count": 40,
      "metadata": {
        "id": "wOfrNjjq6z9C",
        "colab": {
          "base_uri": "https://localhost:8080/"
        },
        "outputId": "734ea05f-6318-43f7-df17-f5f9d5626336"
      },
      "outputs": [
        {
          "output_type": "stream",
          "name": "stdout",
          "text": [
            "Enter GRE score: 300\n",
            "Enter TOEFL score: 200\n",
            "The chance of admission is high.\n"
          ]
        },
        {
          "output_type": "stream",
          "name": "stderr",
          "text": [
            "/usr/local/lib/python3.10/dist-packages/sklearn/base.py:439: UserWarning: X does not have valid feature names, but StandardScaler was fitted with feature names\n",
            "  warnings.warn(\n",
            "/usr/local/lib/python3.10/dist-packages/sklearn/base.py:439: UserWarning: X does not have valid feature names, but LogisticRegression was fitted with feature names\n",
            "  warnings.warn(\n"
          ]
        }
      ],
      "source": [
        "gre_score = float(input(\"Enter GRE score: \"))\n",
        "toefl_score = float(input(\"Enter TOEFL score: \"))\n",
        "\n",
        "# tandardize the user input\n",
        "input_data = scaler.transform([[gre_score, toefl_score]])\n",
        "\n",
        "#Predict admission\n",
        "admission_probability = model.predict_proba(input_data)[0][1]\n",
        "if admission_probability >= 0.5:\n",
        "    print(\"The chance of admission is high.\")\n",
        "else:\n",
        "    print(\"The chance of admission is low.\")"
      ]
    }
  ],
  "metadata": {
    "colab": {
      "provenance": []
    },
    "kernelspec": {
      "display_name": "Python 3",
      "name": "python3"
    },
    "language_info": {
      "name": "python"
    }
  },
  "nbformat": 4,
  "nbformat_minor": 0
}