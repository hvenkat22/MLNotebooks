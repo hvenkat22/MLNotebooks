{
  "nbformat": 4,
  "nbformat_minor": 0,
  "metadata": {
    "colab": {
      "provenance": []
    },
    "kernelspec": {
      "name": "python3",
      "display_name": "Python 3"
    },
    "language_info": {
      "name": "python"
    }
  },
  "cells": [
    {
      "cell_type": "code",
      "execution_count": null,
      "metadata": {
        "colab": {
          "base_uri": "https://localhost:8080/"
        },
        "id": "m0aUTrDaNZEn",
        "outputId": "6a774096-6d51-4ce6-af71-d3aca36ac83b"
      },
      "outputs": [
        {
          "output_type": "stream",
          "name": "stdout",
          "text": [
            "Predicted class for the test data point: No\n"
          ]
        }
      ],
      "source": [
        "import numpy as np\n",
        "from sklearn.preprocessing import LabelEncoder\n",
        "from sklearn.naive_bayes import GaussianNB\n",
        "\n",
        "X = {\"Age\": ['Young', 'Young', 'Young', 'Young', 'Middle', 'Middle', 'Old', 'Old', 'Old'],\n",
        "     \"Job\": [False, False, True, False, False, False, True, True, False],\n",
        "     \"Credit\": ['Fair', 'Good', 'Good', 'Fair', 'Fair', 'Good', 'Good', 'Excellent', 'Fair']}\n",
        "Y = ['No', 'No', 'Yes', 'No', 'No', 'No', 'Yes', 'Yes', 'No']\n",
        "\n",
        "label_encoder = LabelEncoder()\n",
        "X_encoded = np.array([label_encoder.fit_transform(values) for values in X.values()]).T\n",
        "\n",
        "\n",
        "label_encoder_y = LabelEncoder()\n",
        "Y_encoded = label_encoder_y.fit_transform(Y)\n",
        "\n",
        "\n",
        "gnb = GaussianNB()\n",
        "\n",
        "\n",
        "gnb.fit(X_encoded, Y_encoded)\n",
        "\n",
        "\n",
        "test_data_point = {\"Age\": 'Middle', \"Job\": False, \"Credit\": 'Good'}\n",
        "\n",
        "\n",
        "\n",
        "label_encoders = {}\n",
        "\n",
        "for feature in X.keys():\n",
        "    label_encoders[feature] = LabelEncoder()\n",
        "    label_encoders[feature].fit(X[feature])\n",
        "\n",
        "\n",
        "test_encoded = np.array([label_encoders[feature].transform([test_data_point[feature]])[0] for feature in X.keys()]).reshape(1, -1)\n",
        "\n",
        "predicted_class = label_encoder_y.inverse_transform(gnb.predict(test_encoded))\n",
        "\n",
        "print(\"Predicted class for the test data point:\", predicted_class[0])\n",
        "\n",
        "\n",
        "\n"
      ]
    }
  ]
}